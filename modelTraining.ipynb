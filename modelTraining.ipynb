{
  "nbformat": 4,
  "nbformat_minor": 0,
  "metadata": {
    "colab": {
      "name": "modelTraining.ipynb",
      "version": "0.3.2",
      "provenance": [],
      "include_colab_link": true
    },
    "kernelspec": {
      "name": "python3",
      "display_name": "Python 3"
    }
  },
  "cells": [
    {
      "cell_type": "markdown",
      "metadata": {
        "id": "view-in-github",
        "colab_type": "text"
      },
      "source": [
        "<a href=\"https://colab.research.google.com/github/adifatol/BIQA/blob/master/modelTraining.ipynb\" target=\"_parent\"><img src=\"https://colab.research.google.com/assets/colab-badge.svg\" alt=\"Open In Colab\"/></a>"
      ]
    },
    {
      "metadata": {
        "id": "9uTWQibZmzVm",
        "colab_type": "text"
      },
      "cell_type": "markdown",
      "source": [
        "# Loading the features"
      ]
    },
    {
      "metadata": {
        "id": "g8HaRo47dCRq",
        "colab_type": "code",
        "colab": {
          "base_uri": "https://localhost:8080/",
          "height": 255
        },
        "outputId": "342e0c12-8fec-4d54-f92d-3a777df36352"
      },
      "cell_type": "code",
      "source": [
        "!pip install PyDrive\n",
        "\n",
        "from pydrive.auth import GoogleAuth\n",
        "from pydrive.drive import GoogleDrive\n",
        "from google.colab import auth\n",
        "from oauth2client.client import GoogleCredentials\n",
        "\n",
        "# 1. Authenticate and create the PyDrive client.\n",
        "auth.authenticate_user()\n",
        "gauth = GoogleAuth()\n",
        "gauth.credentials = GoogleCredentials.get_application_default()\n",
        "drive = GoogleDrive(gauth)  \n",
        "\n",
        "file_ids = ['1JV1u1baPN8WAuNJGkOxMlem35_YdmZzI', '1qfcubdXx5ybDfY9WwnLdijAWhxlEhdYo', '1HsH2zR234SKL8soZgX6vXWK2xe6JUAg1', '1FWJd_Th0aEXapJxoVu5M2AAud-c3Ja-X']\n",
        "filenames= ['filtered_02.pkl','filtered_20.pkl','filtered_40.pkl','all_scores.pkl']\n",
        "\n",
        "for i in range(len(file_ids)):\n",
        "  file_id = file_ids[i]\n",
        "  file_name = filenames[i]\n",
        "  print(file_id, file_name)\n",
        "  file = drive.CreateFile({'id':file_id, 'parents':[{u'id': \"1Iu9bS-fovG20py9_9A2-M7BJ56HG-sNB\"}]})\n",
        "  file.GetContentFile(file_name)\n"
      ],
      "execution_count": 9,
      "outputs": [
        {
          "output_type": "stream",
          "text": [
            "Requirement already satisfied: PyDrive in /usr/local/lib/python3.6/dist-packages (1.3.1)\n",
            "Requirement already satisfied: google-api-python-client>=1.2 in /usr/local/lib/python3.6/dist-packages (from PyDrive) (1.6.7)\n",
            "Requirement already satisfied: oauth2client>=4.0.0 in /usr/local/lib/python3.6/dist-packages (from PyDrive) (4.1.3)\n",
            "Requirement already satisfied: PyYAML>=3.0 in /usr/local/lib/python3.6/dist-packages (from PyDrive) (3.13)\n",
            "Requirement already satisfied: six<2dev,>=1.6.1 in /usr/local/lib/python3.6/dist-packages (from google-api-python-client>=1.2->PyDrive) (1.12.0)\n",
            "Requirement already satisfied: uritemplate<4dev,>=3.0.0 in /usr/local/lib/python3.6/dist-packages (from google-api-python-client>=1.2->PyDrive) (3.0.0)\n",
            "Requirement already satisfied: httplib2<1dev,>=0.9.2 in /usr/local/lib/python3.6/dist-packages (from google-api-python-client>=1.2->PyDrive) (0.11.3)\n",
            "Requirement already satisfied: pyasn1>=0.1.7 in /usr/local/lib/python3.6/dist-packages (from oauth2client>=4.0.0->PyDrive) (0.4.5)\n",
            "Requirement already satisfied: pyasn1-modules>=0.0.5 in /usr/local/lib/python3.6/dist-packages (from oauth2client>=4.0.0->PyDrive) (0.2.5)\n",
            "Requirement already satisfied: rsa>=3.1.4 in /usr/local/lib/python3.6/dist-packages (from oauth2client>=4.0.0->PyDrive) (4.0)\n",
            "1JV1u1baPN8WAuNJGkOxMlem35_YdmZzI filtered_02.pkl\n",
            "1qfcubdXx5ybDfY9WwnLdijAWhxlEhdYo filtered_20.pkl\n",
            "1HsH2zR234SKL8soZgX6vXWK2xe6JUAg1 filtered_40.pkl\n",
            "1FWJd_Th0aEXapJxoVu5M2AAud-c3Ja-X all_scores.pkl\n"
          ],
          "name": "stdout"
        }
      ]
    },
    {
      "metadata": {
        "id": "I8xL_BsIkEA9",
        "colab_type": "code",
        "colab": {
          "base_uri": "https://localhost:8080/",
          "height": 51
        },
        "outputId": "c94c3436-2ca7-463b-a91b-17fa2a0dc01e"
      },
      "cell_type": "code",
      "source": [
        "!ls"
      ],
      "execution_count": 10,
      "outputs": [
        {
          "output_type": "stream",
          "text": [
            "adc.json\tfiltered_02.pkl  filtered_40.pkl\n",
            "all_scores.pkl\tfiltered_20.pkl  sample_data\n"
          ],
          "name": "stdout"
        }
      ]
    },
    {
      "metadata": {
        "id": "4r6gzxqpmw4O",
        "colab_type": "code",
        "colab": {}
      },
      "cell_type": "code",
      "source": [
        ""
      ],
      "execution_count": 0,
      "outputs": []
    }
  ]
}