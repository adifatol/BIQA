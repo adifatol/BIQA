{
  "nbformat": 4,
  "nbformat_minor": 0,
  "metadata": {
    "accelerator": "GPU",
    "colab": {
      "name": "Copy of Copy of P100 Instance Test.ipynb",
      "provenance": [],
      "collapsed_sections": [],
      "toc_visible": true,
      "machine_shape": "hm",
      "include_colab_link": true
    },
    "kernelspec": {
      "display_name": "Python 3",
      "name": "python3"
    },
    "widgets": {
      "application/vnd.jupyter.widget-state+json": {
        "cfbfda98e0274300a0ba4f6ed22647be": {
          "model_module": "@jupyter-widgets/controls",
          "model_name": "HBoxModel",
          "state": {
            "_view_name": "HBoxView",
            "_dom_classes": [],
            "_model_name": "HBoxModel",
            "_view_module": "@jupyter-widgets/controls",
            "_model_module_version": "1.5.0",
            "_view_count": null,
            "_view_module_version": "1.5.0",
            "box_style": "",
            "layout": "IPY_MODEL_727e0b6752fe4ec491977e27b788fd0a",
            "_model_module": "@jupyter-widgets/controls",
            "children": [
              "IPY_MODEL_fe1ea067b3844f058c6ff96963c93620",
              "IPY_MODEL_d969c558d3e7495984e4cb223f354214"
            ]
          }
        },
        "727e0b6752fe4ec491977e27b788fd0a": {
          "model_module": "@jupyter-widgets/base",
          "model_name": "LayoutModel",
          "state": {
            "_view_name": "LayoutView",
            "grid_template_rows": null,
            "right": null,
            "justify_content": null,
            "_view_module": "@jupyter-widgets/base",
            "overflow": null,
            "_model_module_version": "1.2.0",
            "_view_count": null,
            "flex_flow": null,
            "width": null,
            "min_width": null,
            "border": null,
            "align_items": null,
            "bottom": null,
            "_model_module": "@jupyter-widgets/base",
            "top": null,
            "grid_column": null,
            "overflow_y": null,
            "overflow_x": null,
            "grid_auto_flow": null,
            "grid_area": null,
            "grid_template_columns": null,
            "flex": null,
            "_model_name": "LayoutModel",
            "justify_items": null,
            "grid_row": null,
            "max_height": null,
            "align_content": null,
            "visibility": null,
            "align_self": null,
            "height": null,
            "min_height": null,
            "padding": null,
            "grid_auto_rows": null,
            "grid_gap": null,
            "max_width": null,
            "order": null,
            "_view_module_version": "1.2.0",
            "grid_template_areas": null,
            "object_position": null,
            "object_fit": null,
            "grid_auto_columns": null,
            "margin": null,
            "display": null,
            "left": null
          }
        },
        "fe1ea067b3844f058c6ff96963c93620": {
          "model_module": "@jupyter-widgets/controls",
          "model_name": "FloatProgressModel",
          "state": {
            "_view_name": "ProgressView",
            "style": "IPY_MODEL_d5a99d5e9f60432ea4b448f6694e8eb0",
            "_dom_classes": [],
            "description": "",
            "_model_name": "FloatProgressModel",
            "bar_style": "success",
            "max": 170498071,
            "_view_module": "@jupyter-widgets/controls",
            "_model_module_version": "1.5.0",
            "value": 170498071,
            "_view_count": null,
            "_view_module_version": "1.5.0",
            "orientation": "horizontal",
            "min": 0,
            "description_tooltip": null,
            "_model_module": "@jupyter-widgets/controls",
            "layout": "IPY_MODEL_ac01a05437a041b9b9ed3ea90b775400"
          }
        },
        "d969c558d3e7495984e4cb223f354214": {
          "model_module": "@jupyter-widgets/controls",
          "model_name": "HTMLModel",
          "state": {
            "_view_name": "HTMLView",
            "style": "IPY_MODEL_8d54d1b10a6c4b6ebe81537af41d2588",
            "_dom_classes": [],
            "description": "",
            "_model_name": "HTMLModel",
            "placeholder": "​",
            "_view_module": "@jupyter-widgets/controls",
            "_model_module_version": "1.5.0",
            "value": " 170499072/? [00:07&lt;00:00, 22652900.79it/s]",
            "_view_count": null,
            "_view_module_version": "1.5.0",
            "description_tooltip": null,
            "_model_module": "@jupyter-widgets/controls",
            "layout": "IPY_MODEL_0eca594505444e4eaf86a1bdada5cb0b"
          }
        },
        "d5a99d5e9f60432ea4b448f6694e8eb0": {
          "model_module": "@jupyter-widgets/controls",
          "model_name": "ProgressStyleModel",
          "state": {
            "_view_name": "StyleView",
            "_model_name": "ProgressStyleModel",
            "description_width": "initial",
            "_view_module": "@jupyter-widgets/base",
            "_model_module_version": "1.5.0",
            "_view_count": null,
            "_view_module_version": "1.2.0",
            "bar_color": null,
            "_model_module": "@jupyter-widgets/controls"
          }
        },
        "ac01a05437a041b9b9ed3ea90b775400": {
          "model_module": "@jupyter-widgets/base",
          "model_name": "LayoutModel",
          "state": {
            "_view_name": "LayoutView",
            "grid_template_rows": null,
            "right": null,
            "justify_content": null,
            "_view_module": "@jupyter-widgets/base",
            "overflow": null,
            "_model_module_version": "1.2.0",
            "_view_count": null,
            "flex_flow": null,
            "width": null,
            "min_width": null,
            "border": null,
            "align_items": null,
            "bottom": null,
            "_model_module": "@jupyter-widgets/base",
            "top": null,
            "grid_column": null,
            "overflow_y": null,
            "overflow_x": null,
            "grid_auto_flow": null,
            "grid_area": null,
            "grid_template_columns": null,
            "flex": null,
            "_model_name": "LayoutModel",
            "justify_items": null,
            "grid_row": null,
            "max_height": null,
            "align_content": null,
            "visibility": null,
            "align_self": null,
            "height": null,
            "min_height": null,
            "padding": null,
            "grid_auto_rows": null,
            "grid_gap": null,
            "max_width": null,
            "order": null,
            "_view_module_version": "1.2.0",
            "grid_template_areas": null,
            "object_position": null,
            "object_fit": null,
            "grid_auto_columns": null,
            "margin": null,
            "display": null,
            "left": null
          }
        },
        "8d54d1b10a6c4b6ebe81537af41d2588": {
          "model_module": "@jupyter-widgets/controls",
          "model_name": "DescriptionStyleModel",
          "state": {
            "_view_name": "StyleView",
            "_model_name": "DescriptionStyleModel",
            "description_width": "",
            "_view_module": "@jupyter-widgets/base",
            "_model_module_version": "1.5.0",
            "_view_count": null,
            "_view_module_version": "1.2.0",
            "_model_module": "@jupyter-widgets/controls"
          }
        },
        "0eca594505444e4eaf86a1bdada5cb0b": {
          "model_module": "@jupyter-widgets/base",
          "model_name": "LayoutModel",
          "state": {
            "_view_name": "LayoutView",
            "grid_template_rows": null,
            "right": null,
            "justify_content": null,
            "_view_module": "@jupyter-widgets/base",
            "overflow": null,
            "_model_module_version": "1.2.0",
            "_view_count": null,
            "flex_flow": null,
            "width": null,
            "min_width": null,
            "border": null,
            "align_items": null,
            "bottom": null,
            "_model_module": "@jupyter-widgets/base",
            "top": null,
            "grid_column": null,
            "overflow_y": null,
            "overflow_x": null,
            "grid_auto_flow": null,
            "grid_area": null,
            "grid_template_columns": null,
            "flex": null,
            "_model_name": "LayoutModel",
            "justify_items": null,
            "grid_row": null,
            "max_height": null,
            "align_content": null,
            "visibility": null,
            "align_self": null,
            "height": null,
            "min_height": null,
            "padding": null,
            "grid_auto_rows": null,
            "grid_gap": null,
            "max_width": null,
            "order": null,
            "_view_module_version": "1.2.0",
            "grid_template_areas": null,
            "object_position": null,
            "object_fit": null,
            "grid_auto_columns": null,
            "margin": null,
            "display": null,
            "left": null
          }
        }
      }
    }
  },
  "cells": [
    {
      "cell_type": "markdown",
      "metadata": {
        "id": "view-in-github",
        "colab_type": "text"
      },
      "source": [
        "<a href=\"https://colab.research.google.com/github/adifatol/BIQA/blob/master/exercise-p100.ipynb\" target=\"_parent\"><img src=\"https://colab.research.google.com/assets/colab-badge.svg\" alt=\"Open In Colab\"/></a>"
      ]
    },
    {
      "cell_type": "code",
      "metadata": {
        "id": "Yp0NTCvyBjNG",
        "colab": {
          "base_uri": "https://localhost:8080/",
          "height": 187
        },
        "outputId": "69c27b4b-9ffa-4732-f197-1a8d3acfc2e5"
      },
      "source": [
        "# Copy this Notebook to always get a Colab Notebook with a Tesla P100 GPU and 25GB of RAM \n",
        "\n",
        "# Credits to 0x00groot for finding this\n",
        "https://www.reddit.com/r/MachineLearning/comments/m73sy7/p_my_side_project_cloud_gpus_for_13_the_cost_of/gratmkg?utm_source=share&utm_medium=web2x&context=3\n",
        "\n",
        "# Link to original notebook\n",
        "https://colab.research.google.com/drive/1D6krVG0PPJR2Je9g5eN_2h6JP73_NUXz#scrollTo=W3a4PwlSfS8b"
      ],
      "execution_count": 2,
      "outputs": [
        {
          "output_type": "error",
          "ename": "SyntaxError",
          "evalue": "ignored",
          "traceback": [
            "\u001b[0;36m  File \u001b[0;32m\"<ipython-input-2-6fed26b9b2f2>\"\u001b[0;36m, line \u001b[0;32m4\u001b[0m\n\u001b[0;31m    https://www.reddit.com/r/MachineLearning/comments/m73sy7/p_my_side_project_cloud_gpus_for_13_the_cost_of/gratmkg?utm_source=share&utm_medium=web2x&context=3\u001b[0m\n\u001b[0m           ^\u001b[0m\n\u001b[0;31mSyntaxError\u001b[0m\u001b[0;31m:\u001b[0m invalid syntax\n"
          ]
        }
      ]
    },
    {
      "cell_type": "code",
      "metadata": {
        "colab": {
          "base_uri": "https://localhost:8080/"
        },
        "id": "pJbYXou6chZf",
        "outputId": "41f0e385-891b-415d-98ca-0895b1559826"
      },
      "source": [
        "!nvidia-smi"
      ],
      "execution_count": 10,
      "outputs": [
        {
          "output_type": "stream",
          "text": [
            "Fri Mar 19 12:26:19 2021       \n",
            "+-----------------------------------------------------------------------------+\n",
            "| NVIDIA-SMI 460.56       Driver Version: 460.32.03    CUDA Version: 11.2     |\n",
            "|-------------------------------+----------------------+----------------------+\n",
            "| GPU  Name        Persistence-M| Bus-Id        Disp.A | Volatile Uncorr. ECC |\n",
            "| Fan  Temp  Perf  Pwr:Usage/Cap|         Memory-Usage | GPU-Util  Compute M. |\n",
            "|                               |                      |               MIG M. |\n",
            "|===============================+======================+======================|\n",
            "|   0  Tesla P100-PCIE...  Off  | 00000000:00:04.0 Off |                    0 |\n",
            "| N/A   34C    P0    26W / 250W |      2MiB / 16280MiB |      0%      Default |\n",
            "|                               |                      |                  N/A |\n",
            "+-------------------------------+----------------------+----------------------+\n",
            "                                                                               \n",
            "+-----------------------------------------------------------------------------+\n",
            "| Processes:                                                                  |\n",
            "|  GPU   GI   CI        PID   Type   Process name                  GPU Memory |\n",
            "|        ID   ID                                                   Usage      |\n",
            "|=============================================================================|\n",
            "|  No running processes found                                                 |\n",
            "+-----------------------------------------------------------------------------+\n"
          ],
          "name": "stdout"
        }
      ]
    },
    {
      "cell_type": "code",
      "metadata": {
        "id": "jaG_V9027o0n",
        "colab": {
          "base_uri": "https://localhost:8080/"
        },
        "outputId": "3ff8760b-7fce-4e5a-920a-597e18706d86"
      },
      "source": [
        "!git clone https://github.com/adifatol/active-learning"
      ],
      "execution_count": 4,
      "outputs": [
        {
          "output_type": "stream",
          "text": [
            "Cloning into 'active-learning'...\n",
            "remote: Enumerating objects: 34, done.\u001b[K\n",
            "remote: Counting objects: 100% (34/34), done.\u001b[K\n",
            "remote: Compressing objects: 100% (23/23), done.\u001b[K\n",
            "remote: Total 34 (delta 9), reused 27 (delta 6), pack-reused 0\u001b[K\n",
            "Unpacking objects: 100% (34/34), done.\n"
          ],
          "name": "stdout"
        }
      ]
    },
    {
      "cell_type": "code",
      "metadata": {
        "id": "zhL5PqhTckTR"
      },
      "source": [
        "import os\n",
        "os.chdir('/content/active-learning')"
      ],
      "execution_count": 7,
      "outputs": []
    },
    {
      "cell_type": "code",
      "metadata": {
        "colab": {
          "base_uri": "https://localhost:8080/",
          "height": 1000
        },
        "id": "-tylSX2Lct87",
        "outputId": "bad062de-e57b-4771-f055-64aac7f74c57"
      },
      "source": [
        "!pip install -r requirements.txt"
      ],
      "execution_count": 8,
      "outputs": [
        {
          "output_type": "stream",
          "text": [
            "Requirement already satisfied: tqdm in /usr/local/lib/python3.7/dist-packages (from -r requirements.txt (line 1)) (4.41.1)\n",
            "Requirement already satisfied: matplotlib in /usr/local/lib/python3.7/dist-packages (from -r requirements.txt (line 2)) (3.2.2)\n",
            "Requirement already satisfied: numpy in /usr/local/lib/python3.7/dist-packages (from -r requirements.txt (line 3)) (1.19.5)\n",
            "Requirement already satisfied: torch in /usr/local/lib/python3.7/dist-packages (from -r requirements.txt (line 4)) (1.8.0+cu101)\n",
            "Requirement already satisfied: torchvision in /usr/local/lib/python3.7/dist-packages (from -r requirements.txt (line 5)) (0.9.0+cu101)\n",
            "Collecting jupyterlab\n",
            "\u001b[?25l  Downloading https://files.pythonhosted.org/packages/70/c6/f96358c09b6dcf008502e39b74f5645ef69fd9be029dbeba8fd88886930e/jupyterlab-3.0.11-py3-none-any.whl (8.3MB)\n",
            "\u001b[K     |████████████████████████████████| 8.3MB 8.8MB/s \n",
            "\u001b[?25hRequirement already satisfied: ipywidgets in /usr/local/lib/python3.7/dist-packages (from -r requirements.txt (line 7)) (7.6.3)\n",
            "Requirement already satisfied: pyparsing!=2.0.4,!=2.1.2,!=2.1.6,>=2.0.1 in /usr/local/lib/python3.7/dist-packages (from matplotlib->-r requirements.txt (line 2)) (2.4.7)\n",
            "Requirement already satisfied: python-dateutil>=2.1 in /usr/local/lib/python3.7/dist-packages (from matplotlib->-r requirements.txt (line 2)) (2.8.1)\n",
            "Requirement already satisfied: cycler>=0.10 in /usr/local/lib/python3.7/dist-packages (from matplotlib->-r requirements.txt (line 2)) (0.10.0)\n",
            "Requirement already satisfied: kiwisolver>=1.0.1 in /usr/local/lib/python3.7/dist-packages (from matplotlib->-r requirements.txt (line 2)) (1.3.1)\n",
            "Requirement already satisfied: typing-extensions in /usr/local/lib/python3.7/dist-packages (from torch->-r requirements.txt (line 4)) (3.7.4.3)\n",
            "Requirement already satisfied: pillow>=4.1.1 in /usr/local/lib/python3.7/dist-packages (from torchvision->-r requirements.txt (line 5)) (7.0.0)\n",
            "Collecting tornado>=6.1.0\n",
            "\u001b[?25l  Downloading https://files.pythonhosted.org/packages/91/a8/9c5902233fa3c2e6a889cbd164333ddda5009669f494e3fadbeee2c03af5/tornado-6.1-cp37-cp37m-manylinux2010_x86_64.whl (428kB)\n",
            "\u001b[K     |████████████████████████████████| 430kB 53.1MB/s \n",
            "\u001b[?25hRequirement already satisfied: ipython in /usr/local/lib/python3.7/dist-packages (from jupyterlab->-r requirements.txt (line 6)) (5.5.0)\n",
            "Collecting jupyter-packaging~=0.7.3\n",
            "  Downloading https://files.pythonhosted.org/packages/44/90/1ee67d0ca65bd507872accab7dfaad085ea9f9d74c7379b523dfd0498c0f/jupyter_packaging-0.7.12-py2.py3-none-any.whl\n",
            "Collecting jupyter-server~=1.4\n",
            "\u001b[?25l  Downloading https://files.pythonhosted.org/packages/ec/b7/f8964ca33e61c6fa8f4e494e4940fb6de021f5caa52c2dce32316fac8611/jupyter_server-1.4.1-py3-none-any.whl (241kB)\n",
            "\u001b[K     |████████████████████████████████| 245kB 57.8MB/s \n",
            "\u001b[?25hRequirement already satisfied: jinja2>=2.10 in /usr/local/lib/python3.7/dist-packages (from jupyterlab->-r requirements.txt (line 6)) (2.11.3)\n",
            "Requirement already satisfied: packaging in /usr/local/lib/python3.7/dist-packages (from jupyterlab->-r requirements.txt (line 6)) (20.9)\n",
            "Collecting jupyterlab-server~=2.3\n",
            "\u001b[?25l  Downloading https://files.pythonhosted.org/packages/dd/a7/fd7f7e38647b3c1d8ae37bf8b21157662d84ebd0ebf5b64a607c7c77f676/jupyterlab_server-2.3.0-py3-none-any.whl (45kB)\n",
            "\u001b[K     |████████████████████████████████| 51kB 7.5MB/s \n",
            "\u001b[?25hCollecting nbclassic~=0.2\n",
            "  Downloading https://files.pythonhosted.org/packages/e6/f0/113b9a6975e53285c56091a250be4828dd20d80172620a4ff74ed26c9fe7/nbclassic-0.2.6-py3-none-any.whl\n",
            "Requirement already satisfied: jupyter-core in /usr/local/lib/python3.7/dist-packages (from jupyterlab->-r requirements.txt (line 6)) (4.7.1)\n",
            "Requirement already satisfied: nbformat>=4.2.0 in /usr/local/lib/python3.7/dist-packages (from ipywidgets->-r requirements.txt (line 7)) (5.1.2)\n",
            "Requirement already satisfied: ipykernel>=4.5.1 in /usr/local/lib/python3.7/dist-packages (from ipywidgets->-r requirements.txt (line 7)) (4.10.1)\n",
            "Requirement already satisfied: widgetsnbextension~=3.5.0 in /usr/local/lib/python3.7/dist-packages (from ipywidgets->-r requirements.txt (line 7)) (3.5.1)\n",
            "Requirement already satisfied: jupyterlab-widgets>=1.0.0; python_version >= \"3.6\" in /usr/local/lib/python3.7/dist-packages (from ipywidgets->-r requirements.txt (line 7)) (1.0.0)\n",
            "Requirement already satisfied: traitlets>=4.3.1 in /usr/local/lib/python3.7/dist-packages (from ipywidgets->-r requirements.txt (line 7)) (5.0.5)\n",
            "Requirement already satisfied: six>=1.5 in /usr/local/lib/python3.7/dist-packages (from python-dateutil>=2.1->matplotlib->-r requirements.txt (line 2)) (1.15.0)\n",
            "Requirement already satisfied: pygments in /usr/local/lib/python3.7/dist-packages (from ipython->jupyterlab->-r requirements.txt (line 6)) (2.6.1)\n",
            "Requirement already satisfied: prompt-toolkit<2.0.0,>=1.0.4 in /usr/local/lib/python3.7/dist-packages (from ipython->jupyterlab->-r requirements.txt (line 6)) (1.0.18)\n",
            "Requirement already satisfied: pexpect; sys_platform != \"win32\" in /usr/local/lib/python3.7/dist-packages (from ipython->jupyterlab->-r requirements.txt (line 6)) (4.8.0)\n",
            "Requirement already satisfied: decorator in /usr/local/lib/python3.7/dist-packages (from ipython->jupyterlab->-r requirements.txt (line 6)) (4.4.2)\n",
            "Requirement already satisfied: simplegeneric>0.8 in /usr/local/lib/python3.7/dist-packages (from ipython->jupyterlab->-r requirements.txt (line 6)) (0.8.1)\n",
            "Requirement already satisfied: pickleshare in /usr/local/lib/python3.7/dist-packages (from ipython->jupyterlab->-r requirements.txt (line 6)) (0.7.5)\n",
            "Requirement already satisfied: setuptools>=18.5 in /usr/local/lib/python3.7/dist-packages (from ipython->jupyterlab->-r requirements.txt (line 6)) (54.0.0)\n",
            "Requirement already satisfied: pyzmq>=17 in /usr/local/lib/python3.7/dist-packages (from jupyter-server~=1.4->jupyterlab->-r requirements.txt (line 6)) (22.0.3)\n",
            "Collecting anyio>=2.0.2\n",
            "\u001b[?25l  Downloading https://files.pythonhosted.org/packages/49/c3/b83a3c02c7d6f66932e9a72621d7f207cbfd2bd72b4c8931567ee386fb55/anyio-2.2.0-py3-none-any.whl (65kB)\n",
            "\u001b[K     |████████████████████████████████| 71kB 10.2MB/s \n",
            "\u001b[?25hRequirement already satisfied: prometheus-client in /usr/local/lib/python3.7/dist-packages (from jupyter-server~=1.4->jupyterlab->-r requirements.txt (line 6)) (0.9.0)\n",
            "Collecting jupyter-client>=6.1.1\n",
            "\u001b[?25l  Downloading https://files.pythonhosted.org/packages/77/e8/c3cf72a32a697256608d5fa96360c431adec6e1c6709ba7f13f99ff5ee04/jupyter_client-6.1.12-py3-none-any.whl (112kB)\n",
            "\u001b[K     |████████████████████████████████| 122kB 64.4MB/s \n",
            "\u001b[?25hRequirement already satisfied: terminado>=0.8.3 in /usr/local/lib/python3.7/dist-packages (from jupyter-server~=1.4->jupyterlab->-r requirements.txt (line 6)) (0.9.2)\n",
            "Requirement already satisfied: Send2Trash in /usr/local/lib/python3.7/dist-packages (from jupyter-server~=1.4->jupyterlab->-r requirements.txt (line 6)) (1.5.0)\n",
            "Requirement already satisfied: ipython-genutils in /usr/local/lib/python3.7/dist-packages (from jupyter-server~=1.4->jupyterlab->-r requirements.txt (line 6)) (0.2.0)\n",
            "Requirement already satisfied: nbconvert in /usr/local/lib/python3.7/dist-packages (from jupyter-server~=1.4->jupyterlab->-r requirements.txt (line 6)) (5.6.1)\n",
            "Requirement already satisfied: MarkupSafe>=0.23 in /usr/local/lib/python3.7/dist-packages (from jinja2>=2.10->jupyterlab->-r requirements.txt (line 6)) (1.1.1)\n",
            "Requirement already satisfied: requests in /usr/local/lib/python3.7/dist-packages (from jupyterlab-server~=2.3->jupyterlab->-r requirements.txt (line 6)) (2.23.0)\n",
            "Requirement already satisfied: babel in /usr/local/lib/python3.7/dist-packages (from jupyterlab-server~=2.3->jupyterlab->-r requirements.txt (line 6)) (2.9.0)\n",
            "Collecting jsonschema>=3.0.1\n",
            "\u001b[?25l  Downloading https://files.pythonhosted.org/packages/c5/8f/51e89ce52a085483359217bc72cdbf6e75ee595d5b1d4b5ade40c7e018b8/jsonschema-3.2.0-py2.py3-none-any.whl (56kB)\n",
            "\u001b[K     |████████████████████████████████| 61kB 8.8MB/s \n",
            "\u001b[?25hCollecting json5\n",
            "  Downloading https://files.pythonhosted.org/packages/2b/81/22bf51a5bc60dde18bb6164fd597f18ee683de8670e141364d9c432dd3cf/json5-0.9.5-py2.py3-none-any.whl\n",
            "Requirement already satisfied: notebook<7 in /usr/local/lib/python3.7/dist-packages (from nbclassic~=0.2->jupyterlab->-r requirements.txt (line 6)) (5.3.1)\n",
            "Requirement already satisfied: wcwidth in /usr/local/lib/python3.7/dist-packages (from prompt-toolkit<2.0.0,>=1.0.4->ipython->jupyterlab->-r requirements.txt (line 6)) (0.2.5)\n",
            "Requirement already satisfied: ptyprocess>=0.5 in /usr/local/lib/python3.7/dist-packages (from pexpect; sys_platform != \"win32\"->ipython->jupyterlab->-r requirements.txt (line 6)) (0.7.0)\n",
            "Requirement already satisfied: idna>=2.8 in /usr/local/lib/python3.7/dist-packages (from anyio>=2.0.2->jupyter-server~=1.4->jupyterlab->-r requirements.txt (line 6)) (2.10)\n",
            "Collecting sniffio>=1.1\n",
            "  Downloading https://files.pythonhosted.org/packages/52/b0/7b2e028b63d092804b6794595871f936aafa5e9322dcaaad50ebf67445b3/sniffio-1.2.0-py3-none-any.whl\n",
            "Requirement already satisfied: defusedxml in /usr/local/lib/python3.7/dist-packages (from nbconvert->jupyter-server~=1.4->jupyterlab->-r requirements.txt (line 6)) (0.7.1)\n",
            "Requirement already satisfied: pandocfilters>=1.4.1 in /usr/local/lib/python3.7/dist-packages (from nbconvert->jupyter-server~=1.4->jupyterlab->-r requirements.txt (line 6)) (1.4.3)\n",
            "Requirement already satisfied: entrypoints>=0.2.2 in /usr/local/lib/python3.7/dist-packages (from nbconvert->jupyter-server~=1.4->jupyterlab->-r requirements.txt (line 6)) (0.3)\n",
            "Requirement already satisfied: testpath in /usr/local/lib/python3.7/dist-packages (from nbconvert->jupyter-server~=1.4->jupyterlab->-r requirements.txt (line 6)) (0.4.4)\n",
            "Requirement already satisfied: bleach in /usr/local/lib/python3.7/dist-packages (from nbconvert->jupyter-server~=1.4->jupyterlab->-r requirements.txt (line 6)) (3.3.0)\n",
            "Requirement already satisfied: mistune<2,>=0.8.1 in /usr/local/lib/python3.7/dist-packages (from nbconvert->jupyter-server~=1.4->jupyterlab->-r requirements.txt (line 6)) (0.8.4)\n",
            "Requirement already satisfied: certifi>=2017.4.17 in /usr/local/lib/python3.7/dist-packages (from requests->jupyterlab-server~=2.3->jupyterlab->-r requirements.txt (line 6)) (2020.12.5)\n",
            "Requirement already satisfied: chardet<4,>=3.0.2 in /usr/local/lib/python3.7/dist-packages (from requests->jupyterlab-server~=2.3->jupyterlab->-r requirements.txt (line 6)) (3.0.4)\n",
            "Requirement already satisfied: urllib3!=1.25.0,!=1.25.1,<1.26,>=1.21.1 in /usr/local/lib/python3.7/dist-packages (from requests->jupyterlab-server~=2.3->jupyterlab->-r requirements.txt (line 6)) (1.24.3)\n",
            "Requirement already satisfied: pytz>=2015.7 in /usr/local/lib/python3.7/dist-packages (from babel->jupyterlab-server~=2.3->jupyterlab->-r requirements.txt (line 6)) (2018.9)\n",
            "Requirement already satisfied: attrs>=17.4.0 in /usr/local/lib/python3.7/dist-packages (from jsonschema>=3.0.1->jupyterlab-server~=2.3->jupyterlab->-r requirements.txt (line 6)) (20.3.0)\n",
            "Requirement already satisfied: pyrsistent>=0.14.0 in /usr/local/lib/python3.7/dist-packages (from jsonschema>=3.0.1->jupyterlab-server~=2.3->jupyterlab->-r requirements.txt (line 6)) (0.17.3)\n",
            "Requirement already satisfied: importlib-metadata; python_version < \"3.8\" in /usr/local/lib/python3.7/dist-packages (from jsonschema>=3.0.1->jupyterlab-server~=2.3->jupyterlab->-r requirements.txt (line 6)) (3.7.2)\n",
            "Requirement already satisfied: webencodings in /usr/local/lib/python3.7/dist-packages (from bleach->nbconvert->jupyter-server~=1.4->jupyterlab->-r requirements.txt (line 6)) (0.5.1)\n",
            "Requirement already satisfied: zipp>=0.5 in /usr/local/lib/python3.7/dist-packages (from importlib-metadata; python_version < \"3.8\"->jsonschema>=3.0.1->jupyterlab-server~=2.3->jupyterlab->-r requirements.txt (line 6)) (3.4.1)\n",
            "\u001b[31mERROR: google-colab 1.0.0 has requirement tornado~=5.1.0; python_version >= \"3.0\", but you'll have tornado 6.1 which is incompatible.\u001b[0m\n",
            "Installing collected packages: tornado, jupyter-packaging, sniffio, anyio, jupyter-client, jupyter-server, jsonschema, json5, jupyterlab-server, nbclassic, jupyterlab\n",
            "  Found existing installation: tornado 5.1.1\n",
            "    Uninstalling tornado-5.1.1:\n",
            "      Successfully uninstalled tornado-5.1.1\n",
            "  Found existing installation: jupyter-client 5.3.5\n",
            "    Uninstalling jupyter-client-5.3.5:\n",
            "      Successfully uninstalled jupyter-client-5.3.5\n",
            "  Found existing installation: jsonschema 2.6.0\n",
            "    Uninstalling jsonschema-2.6.0:\n",
            "      Successfully uninstalled jsonschema-2.6.0\n",
            "Successfully installed anyio-2.2.0 json5-0.9.5 jsonschema-3.2.0 jupyter-client-6.1.12 jupyter-packaging-0.7.12 jupyter-server-1.4.1 jupyterlab-3.0.11 jupyterlab-server-2.3.0 nbclassic-0.2.6 sniffio-1.2.0 tornado-6.1\n"
          ],
          "name": "stdout"
        },
        {
          "output_type": "display_data",
          "data": {
            "application/vnd.colab-display-data+json": {
              "pip_warning": {
                "packages": [
                  "jupyter_client",
                  "tornado"
                ]
              }
            }
          },
          "metadata": {
            "tags": []
          }
        }
      ]
    },
    {
      "cell_type": "markdown",
      "metadata": {
        "id": "comfortable-complex"
      },
      "source": [
        "# Active Learning Tutorial"
      ]
    },
    {
      "cell_type": "markdown",
      "metadata": {
        "id": "agreed-front"
      },
      "source": [
        "Unlabelled data is relatively cheap to produce. For labeling their data, companies hire in-house people or external companies to label their data. The cost of labeling is high even for classification task, but increases rapidly for more sophisticated tasks like bounding box detection and semantic segmentation, as can be seen in the bellow pricing scheme:\n",
        "\n",
        "\n",
        "| Task                 | Per unit  cost |\n",
        "| --------------       | -------------- |\n",
        "| Classification       | \\$35           |\n",
        "| Bounding box         | \\$63           |\n",
        "| Segmentation         | \\$870          |\n",
        "| Rotated bounding box | \\$86           |\n",
        "\n",
        "> Pricing scheme taking from https://cloud.google.com/ai-platform/data-labeling/pricing\n",
        "\n",
        "\n",
        "Ideally you will used self-supervised and semi-supervised learning techniques to train your model on unlabelled data.\n",
        "\n",
        "Most often, you have no choice and need to labelled your data. To minimize the cost of labelling, you would want to be able to label only the data that gives you the highest ROI, meaning in our case, the highest accuracy improvement. \n",
        "\n",
        "This becomes a chicken and egg problem because\n",
        "* we want to label only the data that gives us the highest accurcy improvement\n",
        "* we need to know the label to check the accuracy improvement\n",
        "\n",
        "Active learning works to solve the problem of selecting the unlabelled data most likely to give the highest accuracy improvement for the model."
      ]
    },
    {
      "cell_type": "markdown",
      "metadata": {
        "id": "assisted-obligation"
      },
      "source": [
        "In this tutorial we will use the CIFAR-10 dataset for exemplifing different active learning strategies. For the implementation, we will use the PyTorch deep learning framework"
      ]
    },
    {
      "cell_type": "markdown",
      "metadata": {
        "id": "american-winning"
      },
      "source": [
        "We will load the libraries and check if the laptop as a GPU that supports CUDA"
      ]
    },
    {
      "cell_type": "code",
      "metadata": {
        "id": "colored-america"
      },
      "source": [
        "from utils import utils\n",
        "\n",
        "import torch\n",
        "import torchvision\n",
        "import torchvision.transforms as transforms\n",
        "\n",
        "device = torch.device('cuda' if torch.cuda.is_available() else 'cpu')"
      ],
      "execution_count": 9,
      "outputs": []
    },
    {
      "cell_type": "markdown",
      "metadata": {
        "id": "developing-canvas"
      },
      "source": [
        "We will load the entire CIFAR10 dataset and define our data augmentation strategy"
      ]
    },
    {
      "cell_type": "code",
      "metadata": {
        "id": "cooked-mouth",
        "colab": {
          "base_uri": "https://localhost:8080/",
          "height": 139,
          "referenced_widgets": [
            "cfbfda98e0274300a0ba4f6ed22647be",
            "727e0b6752fe4ec491977e27b788fd0a",
            "fe1ea067b3844f058c6ff96963c93620",
            "d969c558d3e7495984e4cb223f354214",
            "d5a99d5e9f60432ea4b448f6694e8eb0",
            "ac01a05437a041b9b9ed3ea90b775400",
            "8d54d1b10a6c4b6ebe81537af41d2588",
            "0eca594505444e4eaf86a1bdada5cb0b"
          ]
        },
        "outputId": "0e26dbcb-71c9-4c57-f61e-9a8f89a46f2d"
      },
      "source": [
        "common_transform = transforms.Compose(\n",
        "    [transforms.ToTensor(),\n",
        "     transforms.Normalize((0.5, 0.5, 0.5), (0.5, 0.5, 0.5))])\n",
        "\n",
        "extended_transform = transforms.Compose(\n",
        "    [transforms.RandomCrop(32, padding=4),\n",
        "     transforms.RandomHorizontalFlip(),\n",
        "     transforms.ToTensor(),\n",
        "     transforms.Normalize((0.5, 0.5, 0.5), (0.5, 0.5, 0.5))])\n",
        "trainset = torchvision.datasets.CIFAR10(root='./data', train=True,\n",
        "                                        download=True, transform=extended_transform)\n",
        "testset = torchvision.datasets.CIFAR10(root='./data', train=False,\n",
        "                                       download=True, transform=common_transform)\n",
        "\n",
        "classes = ('plane', 'car', 'bird', 'cat',\n",
        "           'deer', 'dog', 'frog', 'horse', 'ship', 'truck')"
      ],
      "execution_count": 11,
      "outputs": [
        {
          "output_type": "stream",
          "text": [
            "Downloading https://www.cs.toronto.edu/~kriz/cifar-10-python.tar.gz to ./data/cifar-10-python.tar.gz\n"
          ],
          "name": "stdout"
        },
        {
          "output_type": "display_data",
          "data": {
            "application/vnd.jupyter.widget-view+json": {
              "model_id": "cfbfda98e0274300a0ba4f6ed22647be",
              "version_minor": 0,
              "version_major": 2
            },
            "text/plain": [
              "HBox(children=(FloatProgress(value=0.0, max=170498071.0), HTML(value='')))"
            ]
          },
          "metadata": {
            "tags": []
          }
        },
        {
          "output_type": "stream",
          "text": [
            "\n",
            "Extracting ./data/cifar-10-python.tar.gz to ./data\n",
            "Files already downloaded and verified\n"
          ],
          "name": "stdout"
        }
      ]
    },
    {
      "cell_type": "markdown",
      "metadata": {
        "id": "studied-necessity"
      },
      "source": [
        "We will use a large batch size to make sure that we will have in a batch at least one sample for each class"
      ]
    },
    {
      "cell_type": "code",
      "metadata": {
        "id": "fourth-score"
      },
      "source": [
        "batch_size = 128\n",
        "testloader = torch.utils.data.DataLoader(testset, batch_size=batch_size,\n",
        "                                         shuffle=False, num_workers=2)"
      ],
      "execution_count": 12,
      "outputs": []
    },
    {
      "cell_type": "markdown",
      "metadata": {
        "id": "psychological-juice"
      },
      "source": [
        "Now we will check how the data looks"
      ]
    },
    {
      "cell_type": "code",
      "metadata": {
        "id": "controlling-crystal",
        "colab": {
          "base_uri": "https://localhost:8080/",
          "height": 155
        },
        "outputId": "8e6b4d5f-db19-4e6e-bfdd-d75bfd8d785e"
      },
      "source": [
        "import matplotlib.pyplot as plt\n",
        "import numpy as np\n",
        "\n",
        "# functions to show an image\n",
        "def imshow(img):\n",
        "    img = img / 2 + 0.5     # unnormalize\n",
        "    npimg = img.numpy()\n",
        "    plt.imshow(np.transpose(npimg, (1, 2, 0)))\n",
        "    plt.show()\n",
        "\n",
        "\n",
        "# get some random training images\n",
        "dataiter = iter(testloader)\n",
        "images, labels = dataiter.next()\n",
        "\n",
        "# show images\n",
        "imshow(torchvision.utils.make_grid(images[:4]))\n",
        "# print labels\n",
        "print(' '.join('%5s' % classes[labels[j]] for j in range(4)))"
      ],
      "execution_count": 13,
      "outputs": [
        {
          "output_type": "display_data",
          "data": {
            "image/png": "[encoded data removed]",
            "text/plain": [
              "<Figure size 432x288 with 1 Axes>"
            ]
          },
          "metadata": {
            "tags": [],
            "needs_background": "light"
          }
        },
        {
          "output_type": "stream",
          "text": [
            "  cat  ship  ship plane\n"
          ],
          "name": "stdout"
        }
      ]
    },
    {
      "cell_type": "markdown",
      "metadata": {
        "id": "linear-agreement"
      },
      "source": [
        "We start of without knowing any labels for our data. We will ask an Oracle to label our data, but this comes with a price. To prevent us going over our labelling budget, the Oracle comes with a budget parameter. This stops any labelling after we reach the budget. After we begin labelling our data, the Oracle can be used like any other PyTorch Dataset.\n",
        "\n",
        "Because we need to validate our model, the traiset will always be fully labelled."
      ]
    },
    {
      "cell_type": "code",
      "metadata": {
        "id": "opponent-consequence",
        "colab": {
          "base_uri": "https://localhost:8080/"
        },
        "outputId": "276d37ab-a0bf-4d23-cbfe-82f2137371a0"
      },
      "source": [
        "from utils.oracle import Oracle\n",
        "\n",
        "budget = 5000 # maximum number of data we can label\n",
        "print(f\"We have a buget for {budget} labelled data, which coresponds to {budget/len(trainset) * 100}% of the total data\")\n",
        "oracle = Oracle(trainset, budget=budget)"
      ],
      "execution_count": 14,
      "outputs": [
        {
          "output_type": "stream",
          "text": [
            "We have a buget for 5000 labelled data, which coresponds to 10.0% of the total data\n"
          ],
          "name": "stdout"
        }
      ]
    },
    {
      "cell_type": "markdown",
      "metadata": {
        "id": "stupid-temperature"
      },
      "source": [
        "# Random selection as active learning strategy"
      ]
    },
    {
      "cell_type": "markdown",
      "metadata": {
        "id": "muslim-independence"
      },
      "source": [
        "A dummy active learning strategy would be to randomly select the data to label.\n",
        "\n",
        "---\n",
        "\n"
      ]
    },
    {
      "cell_type": "code",
      "metadata": {
        "id": "fifteen-newsletter",
        "colab": {
          "base_uri": "https://localhost:8080/"
        },
        "outputId": "b16a75af-3763-440f-cc0d-dc60025da7b2"
      },
      "source": [
        "import random\n",
        "\n",
        "data_to_label = random.sample(range(oracle.get_total_data_num()), budget)\n",
        "oracle.label(data_to_label)\n",
        "\n",
        "print(f\"We have {oracle.get_labelled_data_num()} labelled data\")"
      ],
      "execution_count": 15,
      "outputs": [
        {
          "output_type": "stream",
          "text": [
            "We have 5000 labelled data\n"
          ],
          "name": "stdout"
        }
      ]
    },
    {
      "cell_type": "markdown",
      "metadata": {
        "id": "collaborative-grade"
      },
      "source": [
        "Let's check what accuracy we get by training the model using this strategy"
      ]
    },
    {
      "cell_type": "code",
      "metadata": {
        "id": "active-statistics"
      },
      "source": [
        "from models.net import Net\n",
        "import torch.optim as optim\n",
        "import torch.nn as nn\n",
        "\n",
        "trainloader = torch.utils.data.DataLoader(oracle, batch_size=batch_size,\n",
        "                                          shuffle=True, num_workers=2)\n",
        "\n",
        "net = Net().to(device)\n",
        "\n",
        "loss_function = nn.CrossEntropyLoss()\n",
        "optimizer = optim.SGD (net.parameters (), lr = 0.05, momentum = 0.9, weight_decay = 5e-4)\n",
        "scheduler = optim.lr_scheduler.MultiStepLR(optimizer, milestones=[50, 80], gamma=0.1) "
      ],
      "execution_count": 16,
      "outputs": []
    },
    {
      "cell_type": "code",
      "metadata": {
        "id": "incorrect-delhi",
        "colab": {
          "base_uri": "https://localhost:8080/"
        },
        "outputId": "fde67800-ba2a-46df-879a-655c741f86e8"
      },
      "source": [
        "utils.train(net, trainloader, optimizer, loss_function, scheduler, device, epochs=100, \n",
        "                testloader=testloader)"
      ],
      "execution_count": 17,
      "outputs": [
        {
          "output_type": "stream",
          "text": [
            "epoch: 100, train loss: 0.0902 test acc 72.84%: 100%|██████████| 100/100 [08:23<00:00,  5.04s/it]\n"
          ],
          "name": "stderr"
        }
      ]
    },
    {
      "cell_type": "markdown",
      "metadata": {
        "id": "guilty-diesel"
      },
      "source": [
        "bold text# Entropy based selection as active learning strategy"
      ]
    },
    {
      "cell_type": "markdown",
      "metadata": {
        "id": "impressive-dominant"
      },
      "source": [
        "## Shannon Entropy"
      ]
    },
    {
      "cell_type": "markdown",
      "metadata": {
        "id": "interpreted-foster"
      },
      "source": [
        "We will use Shannon entropy formula to calculate a score for how uncertain the \n",
        "\n",
        "---\n",
        "\n",
        "model is regarding its prediction\n",
        "\n",
        "$H=-\\sum_{i=1}^{M} P_i\\,log_2\\,P_i $"
      ]
    },
    {
      "cell_type": "code",
      "metadata": {
        "id": "focused-attempt"
      },
      "source": [
        "def entropy(prob_distrib):\n",
        "    return -torch.sum(prob_distrib*torch.log2(prob_distrib))"
      ],
      "execution_count": 26,
      "outputs": []
    },
    {
      "cell_type": "markdown",
      "metadata": {
        "id": "smart-agreement"
      },
      "source": [
        "Let's check the formula result on a few examples"
      ]
    },
    {
      "cell_type": "markdown",
      "metadata": {
        "id": "professional-creativity"
      },
      "source": [
        "If the class probability ditribution is uniform, meaning the model is uncertain, the entropy is large"
      ]
    },
    {
      "cell_type": "code",
      "metadata": {
        "id": "boxed-horse",
        "colab": {
          "base_uri": "https://localhost:8080/"
        },
        "outputId": "1102f8ac-ab47-42a5-a25c-3d4345d91543"
      },
      "source": [
        "print(entropy(torch.tensor([0.25, 0.25, 0.25, 0.25])))"
      ],
      "execution_count": 27,
      "outputs": [
        {
          "output_type": "stream",
          "text": [
            "tensor(2.)\n"
          ],
          "name": "stdout"
        }
      ]
    },
    {
      "cell_type": "markdown",
      "metadata": {
        "id": "better-survivor"
      },
      "source": [
        "If the model is certain regarding the class, the entropy will be close to 0"
      ]
    },
    {
      "cell_type": "code",
      "metadata": {
        "id": "angry-induction",
        "colab": {
          "base_uri": "https://localhost:8080/"
        },
        "outputId": "c8573369-afe8-4743-99ce-649f4745a220"
      },
      "source": [
        "print(entropy(torch.tensor([0.997, 0.001, 0.001, 0.001])))"
      ],
      "execution_count": 20,
      "outputs": [
        {
          "output_type": "stream",
          "text": [
            "tensor(0.0342)\n"
          ],
          "name": "stdout"
        }
      ]
    },
    {
      "cell_type": "markdown",
      "metadata": {
        "id": "growing-sheriff"
      },
      "source": [
        "Now a more realistic class probability distribution for which the entropy is between 0 and entroy of the random case"
      ]
    },
    {
      "cell_type": "code",
      "metadata": {
        "id": "seeing-midnight",
        "colab": {
          "base_uri": "https://localhost:8080/"
        },
        "outputId": "b3405a58-f9ac-4d2e-b0c2-61818c5b8c93"
      },
      "source": [
        "print(entropy(torch.tensor([0.1, 0.2, 0.15, 0.55])))"
      ],
      "execution_count": 21,
      "outputs": [
        {
          "output_type": "stream",
          "text": [
            "tensor(1.6815)\n"
          ],
          "name": "stdout"
        }
      ]
    },
    {
      "cell_type": "markdown",
      "metadata": {
        "id": "searching-triangle"
      },
      "source": [
        "## Train on an small set of the data"
      ]
    },
    {
      "cell_type": "markdown",
      "metadata": {
        "id": "generous-square"
      },
      "source": [
        "First make sure the Oracle is reseted"
      ]
    },
    {
      "cell_type": "code",
      "metadata": {
        "id": "disabled-processor"
      },
      "source": [
        "oracle = Oracle(trainset, budget=budget)"
      ],
      "execution_count": 22,
      "outputs": []
    },
    {
      "cell_type": "markdown",
      "metadata": {
        "id": "metric-lesson"
      },
      "source": [
        "We start of with randomly labelling the data, but only using half of our budget."
      ]
    },
    {
      "cell_type": "code",
      "metadata": {
        "id": "electoral-immigration",
        "colab": {
          "base_uri": "https://localhost:8080/"
        },
        "outputId": "ba36863f-3818-445d-9fda-84f98954fb23"
      },
      "source": [
        "import random\n",
        "\n",
        "data_to_label = random.sample(range(oracle.get_total_data_num()), budget//2)\n",
        "oracle.label(data_to_label)\n",
        "\n",
        "print(f\"We have {oracle.get_labelled_data_num()} labelled data\")"
      ],
      "execution_count": 23,
      "outputs": [
        {
          "output_type": "stream",
          "text": [
            "We have 2500 labelled data\n"
          ],
          "name": "stdout"
        }
      ]
    },
    {
      "cell_type": "markdown",
      "metadata": {
        "id": "challenging-inventory"
      },
      "source": [
        "We need to create a fresh model and dataloader to make sure we are not affected by the previous experiment."
      ]
    },
    {
      "cell_type": "code",
      "metadata": {
        "id": "obvious-fundamentals"
      },
      "source": [
        "from models.net import Net\n",
        "import torch.optim as optim\n",
        "import torch.nn as nn\n",
        "\n",
        "trainloader = torch.utils.data.DataLoader(oracle, batch_size=batch_size,\n",
        "                                          shuffle=True, num_workers=2)\n",
        "\n",
        "net = Net().to(device)\n",
        "\n",
        "loss_function = nn.CrossEntropyLoss()\n",
        "optimizer = optim.SGD (net.parameters (), lr = 0.05, momentum = 0.9, weight_decay = 5e-3)\n",
        "scheduler = optim.lr_scheduler.MultiStepLR(optimizer, milestones=[50, 80], gamma=0.1) "
      ],
      "execution_count": 24,
      "outputs": []
    },
    {
      "cell_type": "code",
      "metadata": {
        "id": "finite-envelope",
        "colab": {
          "base_uri": "https://localhost:8080/"
        },
        "outputId": "45b21d0c-d14f-408d-f635-b766338c7c47"
      },
      "source": [
        "utils.train(net, trainloader, optimizer, loss_function, scheduler, device, epochs=100, \n",
        "                testloader=testloader)"
      ],
      "execution_count": 25,
      "outputs": [
        {
          "output_type": "stream",
          "text": [
            "epoch: 100, train loss: 0.0260 test acc 67.17%: 100%|██████████| 100/100 [05:57<00:00,  3.58s/it]\n"
          ],
          "name": "stderr"
        }
      ]
    },
    {
      "cell_type": "markdown",
      "metadata": {
        "id": "normal-administrator"
      },
      "source": [
        "## Score each image based on the confidence of the model"
      ]
    },
    {
      "cell_type": "markdown",
      "metadata": {
        "id": "neutral-communist"
      },
      "source": [
        "Define the scoring function"
      ]
    },
    {
      "cell_type": "code",
      "metadata": {
        "id": "chemical-viking"
      },
      "source": [
        "def calc_score(prob_distrib):\n",
        "    return entropy(prob_distrib)"
      ],
      "execution_count": 28,
      "outputs": []
    },
    {
      "cell_type": "markdown",
      "metadata": {
        "id": "postal-homeless"
      },
      "source": [
        "Calculate the score for each image"
      ]
    },
    {
      "cell_type": "code",
      "metadata": {
        "id": "limiting-blink",
        "colab": {
          "base_uri": "https://localhost:8080/"
        },
        "outputId": "9cac57d9-dd9f-4272-b8e1-e89ed2d19bd0"
      },
      "source": [
        "from tqdm import tqdm\n",
        "\n",
        "scoring = []\n",
        "with torch.no_grad():\n",
        "    net.eval()\n",
        "    for idx in tqdm(range(oracle.get_total_data_num())):\n",
        "        image = oracle.get_image(idx).cuda()\n",
        "        class_logits = net(torch.unsqueeze(image, 0))\n",
        "        class_probability_distribution = torch.softmax(torch.sigmoid(class_logits), dim=-1)\n",
        "        scoring.append((calc_score(class_probability_distribution).cpu(), idx))"
      ],
      "execution_count": 29,
      "outputs": [
        {
          "output_type": "stream",
          "text": [
            "100%|██████████| 50000/50000 [04:57<00:00, 168.08it/s]\n"
          ],
          "name": "stderr"
        }
      ]
    },
    {
      "cell_type": "markdown",
      "metadata": {
        "id": "abandoned-blackberry"
      },
      "source": [
        "Select the rest of data that needs labelling based on the score"
      ]
    },
    {
      "cell_type": "code",
      "metadata": {
        "id": "demanding-prophet"
      },
      "source": [
        "import heapq\n",
        "hard_samples = heapq.nlargest(budget, scoring, key=lambda x: x[0])\n",
        "data_to_label = [idx for score, idx in hard_samples]"
      ],
      "execution_count": 30,
      "outputs": []
    },
    {
      "cell_type": "markdown",
      "metadata": {
        "id": "rural-parks"
      },
      "source": [
        "Request the oracle to label the data"
      ]
    },
    {
      "cell_type": "code",
      "metadata": {
        "id": "informative-artwork",
        "colab": {
          "base_uri": "https://localhost:8080/"
        },
        "outputId": "ed7d6aa8-d397-465e-c678-fe9307aa33b6"
      },
      "source": [
        "oracle.label(data_to_label)\n",
        "print(f\"We have now {len(oracle)} labelled data\")"
      ],
      "execution_count": 31,
      "outputs": [
        {
          "output_type": "stream",
          "text": [
            "We have now 5000 labelled data\n"
          ],
          "name": "stdout"
        }
      ]
    },
    {
      "cell_type": "markdown",
      "metadata": {
        "id": "average-jesus"
      },
      "source": [
        "We will start a fresh train"
      ]
    },
    {
      "cell_type": "code",
      "metadata": {
        "id": "hairy-constitutional"
      },
      "source": [
        "from models.net import Net\n",
        "import torch.optim as optim\n",
        "import torch.nn as nn\n",
        "\n",
        "trainloader = torch.utils.data.DataLoader(oracle, batch_size=batch_size,\n",
        "                                          shuffle=True, num_workers=2)\n",
        "\n",
        "net = Net().to(device)\n",
        "\n",
        "loss_function = nn.CrossEntropyLoss()\n",
        "optimizer = optim.SGD (net.parameters (), lr = 0.05, momentum = 0.9, weight_decay = 5e-4)\n",
        "scheduler = optim.lr_scheduler.MultiStepLR(optimizer, milestones=[50, 80], gamma=0.1) "
      ],
      "execution_count": 32,
      "outputs": []
    },
    {
      "cell_type": "code",
      "metadata": {
        "id": "distinct-mattress",
        "colab": {
          "base_uri": "https://localhost:8080/"
        },
        "outputId": "7a9ae069-f690-4b7e-bcac-93f4cee43d4b"
      },
      "source": [
        "from utils import utils\n",
        "\n",
        "utils.train(net, trainloader, optimizer, loss_function, scheduler, device, epochs=100, \n",
        "                testloader=testloader)"
      ],
      "execution_count": 33,
      "outputs": [
        {
          "output_type": "stream",
          "text": [
            "epoch: 100, train loss: 0.1298 test acc 69.34%: 100%|██████████| 100/100 [08:19<00:00,  5.00s/it]\n"
          ],
          "name": "stderr"
        }
      ]
    },
    {
      "cell_type": "markdown",
      "metadata": {
        "id": "minus-vessel"
      },
      "source": [
        "## Iterative selection"
      ]
    },
    {
      "cell_type": "code",
      "metadata": {
        "id": "religious-appearance",
        "colab": {
          "base_uri": "https://localhost:8080/"
        },
        "outputId": "d51f3e66-45d6-4fac-a9cd-8e8aa7f2b52a"
      },
      "source": [
        "oracle = Oracle(trainset, budget=budget)\n",
        "num_data_to_label_per_it = budget//10\n",
        "data_to_label = random.sample(range(oracle.get_total_data_num()), num_data_to_label_per_it)\n",
        "oracle.label(data_to_label)\n",
        "\n",
        "i = 0\n",
        "while oracle.get_labelled_data_num() < budget:\n",
        "    print(f\"We have {oracle.get_labelled_data_num()} labelled data\")\n",
        "\n",
        "    trainloader = torch.utils.data.DataLoader(oracle, batch_size=batch_size,\n",
        "                                              shuffle=True, num_workers=2)\n",
        "\n",
        "    net = Net().to(device)\n",
        "\n",
        "    loss_function = nn.CrossEntropyLoss()\n",
        "    optimizer = optim.SGD (net.parameters (), lr = 0.05, momentum = 0.9, weight_decay = 5e-3/(i+1))\n",
        "    scheduler = optim.lr_scheduler.MultiStepLR(optimizer, milestones=[50, 80], gamma=0.1) \n",
        "\n",
        "    utils.train(net, trainloader, optimizer, loss_function, scheduler, device, epochs=100, \n",
        "                    testloader=testloader)\n",
        "\n",
        "    scoring = []\n",
        "    net.eval()\n",
        "    with torch.no_grad():\n",
        "        for idx in tqdm(range(oracle.get_total_data_num())):\n",
        "            image = oracle.get_image(idx).cuda()\n",
        "            class_logits = net(torch.unsqueeze(image, 0))\n",
        "            class_probability_distribution = torch.softmax(torch.sigmoid(class_logits), dim=-1)\n",
        "            scoring.append((calc_score(class_probability_distribution).cpu(), idx))\n",
        "\n",
        "    hard_samples = heapq.nlargest(num_data_to_label_per_it, scoring, key=lambda x: x[0])\n",
        "    data_to_label = [idx for score, idx in hard_samples]\n",
        "    oracle.label(data_to_label)\n",
        "    i += 1"
      ],
      "execution_count": null,
      "outputs": [
        {
          "output_type": "stream",
          "text": [
            "\r  0%|          | 0/100 [00:00<?, ?it/s]"
          ],
          "name": "stderr"
        },
        {
          "output_type": "stream",
          "text": [
            "We have 500 labelled data\n"
          ],
          "name": "stdout"
        },
        {
          "output_type": "stream",
          "text": [
            "epoch: 71, train loss: 0.0315 test acc 38.49%:  71%|███████   | 71/100 [02:55<01:11,  2.47s/it]"
          ],
          "name": "stderr"
        }
      ]
    },
    {
      "cell_type": "markdown",
      "metadata": {
        "id": "national-narrow"
      },
      "source": [
        "# Train on all data"
      ]
    },
    {
      "cell_type": "code",
      "metadata": {
        "id": "central-introduction"
      },
      "source": [
        "from models.net import Net\n",
        "import torch.optim as optim\n",
        "import torch.nn as nn\n",
        "\n",
        "trainloader = torch.utils.data.DataLoader(trainset, batch_size=batch_size,\n",
        "                                          shuffle=True, num_workers=2)\n",
        "\n",
        "net = Net().to(device)\n",
        "\n",
        "loss_function = nn.CrossEntropyLoss()\n",
        "optimizer = optim.SGD (net.parameters (), lr = 0.05, momentum = 0.9, weight_decay = 5e-4)\n",
        "scheduler = optim.lr_scheduler.MultiStepLR(optimizer, milestones=[25, 40], gamma=0.1) "
      ],
      "execution_count": null,
      "outputs": []
    },
    {
      "cell_type": "code",
      "metadata": {
        "id": "civic-seller",
        "outputId": "6c7e45b7-664d-478c-e9af-3b6710959d1f"
      },
      "source": [
        "import os\n",
        "save_path = './checkpoints/lfull_train.pth'\n",
        "if os.path.exists(save_path):\n",
        "    net.load_state_dict(torch.load(save_path))\n",
        "else:\n",
        "    utils.train(net, trainloader, optimizer, loss_function, scheduler, device, epochs=50, \n",
        "                testloader=testloader)\n",
        "    torch.save(net.state_dict(), save_path)"
      ],
      "execution_count": null,
      "outputs": [
        {
          "output_type": "stream",
          "text": [
            "epoch: 50, train loss: 0.0131 test acc 92.09%: 100%|██████████| 50/50 [25:23<00:00, 30.47s/it]\n"
          ],
          "name": "stderr"
        }
      ]
    },
    {
      "cell_type": "code",
      "metadata": {
        "id": "separated-tractor",
        "outputId": "fc2d3901-54fa-413c-9367-b95ebf422358"
      },
      "source": [
        "dataiter = iter(testloader)\n",
        "images, labels = dataiter.next()\n",
        "\n",
        "# print images\n",
        "imshow(torchvision.utils.make_grid(images[:4]))\n",
        "print('GroundTruth: ', ' '.join('%5s' % classes[labels[j]] for j in range(4)))"
      ],
      "execution_count": null,
      "outputs": [
        {
          "output_type": "display_data",
          "data": {
            "image/png": "[encoded data removed]",
            "text/plain": [
              "<Figure size 432x288 with 1 Axes>"
            ]
          },
          "metadata": {
            "tags": [],
            "needs_background": "light"
          }
        },
        {
          "output_type": "stream",
          "text": [
            "GroundTruth:    cat  ship  ship plane\n"
          ],
          "name": "stdout"
        }
      ]
    },
    {
      "cell_type": "code",
      "metadata": {
        "id": "current-nancy",
        "outputId": "3b0e805e-7f5a-4624-94e6-4a9afbf0c6da"
      },
      "source": [
        "outputs = net(images.to(device))\n",
        "_, predicted = torch.max(outputs, 1)\n",
        "\n",
        "print('Predicted: ', ' '.join('%5s' % classes[predicted[j]]\n",
        "                              for j in range(4)))"
      ],
      "execution_count": null,
      "outputs": [
        {
          "output_type": "stream",
          "text": [
            "Predicted:    cat  ship  ship plane\n"
          ],
          "name": "stdout"
        }
      ]
    }
  ]
}